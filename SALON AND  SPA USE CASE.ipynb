{
 "cells": [
  {
   "cell_type": "code",
   "execution_count": 0,
   "metadata": {
    "application/vnd.databricks.v1+cell": {
     "cellMetadata": {
      "byteLimit": 2048000,
      "rowLimit": 10000
     },
     "inputWidgets": {},
     "nuid": "6f361b37-ffb7-45eb-b168-73edd87c9b75",
     "showTitle": false,
     "tableResultSettingsMap": {},
     "title": ""
    }
   },
   "outputs": [
    {
     "output_type": "stream",
     "name": "stdout",
     "output_type": "stream",
     "text": [
      "+-----------+-------------+------+---+----------+--------------+--------+----------+------------+-------------------+------------+--------+--------+---------+\n|customer_id|customer_name|gender|age|service_id|  service_name|category|booking_id|booking_date|       booking_time|amount_spent|duration|staff_id|   status|\n+-----------+-------------+------+---+----------+--------------+--------+----------+------------+-------------------+------------+--------+--------+---------+\n|         28|      Shannon|Female| 32|         3|        Facial|    Skin|         1|  2025-08-26|2025-09-17 00:06:00|       932.3|      90|      14|Completed|\n|          8|      Brianna|  Male| 21|         7|      Body Spa|     Spa|         2|  2025-07-15|2025-09-17 20:51:00|     2857.01|      60|      14|Completed|\n|         30|        Peter|Female| 24|         6|      Pedicure|Grooming|         3|  2025-08-09|2025-09-17 19:01:00|     1209.26|      90|       5|Completed|\n|         12|      Michael|  Male| 49|        10|Beard Grooming|Grooming|         4|  2025-08-21|2025-09-17 06:07:00|     1560.55|      90|      12|Completed|\n|         19|      Beverly|Female| 47|         1|       Haircut|    Hair|         5|  2025-08-12|2025-09-17 01:49:00|     2078.59|      90|       5|Completed|\n|          7|        David|  Male| 20|         4|       Massage|     Spa|         6|  2025-06-20|2025-09-17 20:05:00|     2861.86|     120|      15|Completed|\n|         16|       Amanda|Female| 23|         7|      Body Spa|     Spa|         7|  2025-07-18|2025-09-17 09:18:00|     1733.03|     120|      10|Cancelled|\n|         11|       Nicole|  Male| 35|         6|      Pedicure|Grooming|         8|  2025-07-20|2025-09-17 12:15:00|     1022.68|      30|      15|Completed|\n|         11|        Maria|Female| 38|         3|        Facial|    Skin|         9|  2025-09-03|2025-09-17 15:05:00|     1066.75|      60|       3|Cancelled|\n|         13|       Austin|  Male| 45|        10|Beard Grooming|Grooming|        10|  2025-06-23|2025-09-17 12:03:00|     2220.78|      45|       8|Cancelled|\n+-----------+-------------+------+---+----------+--------------+--------+----------+------------+-------------------+------------+--------+--------+---------+\nonly showing top 10 rows\nroot\n |-- customer_id: integer (nullable = true)\n |-- customer_name: string (nullable = true)\n |-- gender: string (nullable = true)\n |-- age: integer (nullable = true)\n |-- service_id: integer (nullable = true)\n |-- service_name: string (nullable = true)\n |-- category: string (nullable = true)\n |-- booking_id: integer (nullable = true)\n |-- booking_date: date (nullable = true)\n |-- booking_time: timestamp (nullable = true)\n |-- amount_spent: double (nullable = true)\n |-- duration: integer (nullable = true)\n |-- staff_id: integer (nullable = true)\n |-- status: string (nullable = true)\n\n"
     ]
    }
   ],
   "source": [
    "# Load CSV into Spark DataFrame\n",
    "df = spark.read.option(\"header\", \"true\").option(\"inferSchema\", \"true\") \\\n",
    "    .csv(\"/Volumes/workspace/default/usecaseinternal/USE CASE/salon_spa_dataset.csv\")\n",
    "\n",
    "# Show first 10 rows\n",
    "df.show(10)\n",
    "\n",
    "# Verify schema\n",
    "df.printSchema()\n"
   ]
  },
  {
   "cell_type": "code",
   "execution_count": 0,
   "metadata": {
    "application/vnd.databricks.v1+cell": {
     "cellMetadata": {
      "byteLimit": 2048000,
      "rowLimit": 10000
     },
     "inputWidgets": {},
     "nuid": "6d1d8781-ec47-49cd-b29f-206a0cca9e82",
     "showTitle": false,
     "tableResultSettingsMap": {},
     "title": ""
    }
   },
   "outputs": [
    {
     "output_type": "display_data",
     "data": {
      "text/html": [
       "<style scoped>\n",
       "  .table-result-container {\n",
       "    max-height: 300px;\n",
       "    overflow: auto;\n",
       "  }\n",
       "  table, th, td {\n",
       "    border: 1px solid black;\n",
       "    border-collapse: collapse;\n",
       "  }\n",
       "  th, td {\n",
       "    padding: 5px;\n",
       "  }\n",
       "  th {\n",
       "    text-align: left;\n",
       "  }\n",
       "</style><div class='table-result-container'><table class='table-result'><thead style='background-color: white'><tr><th>category</th><th>total_revenue</th></tr></thead><tbody><tr><td>Hair</td><td>42946.89</td></tr><tr><td>Skin</td><td>24239.130000000005</td></tr><tr><td>Spa</td><td>46605.07</td></tr><tr><td>Grooming</td><td>46936.91000000001</td></tr></tbody></table></div>"
      ]
     },
     "metadata": {
      "application/vnd.databricks.v1+output": {
       "addedWidgets": {},
       "aggData": [],
       "aggError": "",
       "aggOverflow": false,
       "aggSchema": [],
       "aggSeriesLimitReached": false,
       "aggType": "",
       "arguments": {},
       "columnCustomDisplayInfos": {},
       "data": [
        [
         "Hair",
         42946.89
        ],
        [
         "Skin",
         24239.130000000005
        ],
        [
         "Spa",
         46605.07
        ],
        [
         "Grooming",
         46936.91000000001
        ]
       ],
       "datasetInfos": [],
       "dbfsResultPath": null,
       "isJsonSchema": true,
       "metadata": {},
       "overflow": false,
       "plotOptions": {
        "customPlotOptions": {},
        "displayType": "table",
        "pivotAggregation": null,
        "pivotColumns": null,
        "xColumns": null,
        "yColumns": null
       },
       "removedWidgets": [],
       "schema": [
        {
         "metadata": "{}",
         "name": "category",
         "type": "\"string\""
        },
        {
         "metadata": "{}",
         "name": "total_revenue",
         "type": "\"double\""
        }
       ],
       "type": "table"
      }
     },
     "output_type": "display_data"
    },
    {
     "output_type": "display_data",
     "data": {
      "text/plain": [
       "Databricks visualization. Run in Databricks to view."
      ]
     },
     "metadata": {
      "application/vnd.databricks.v1.subcommand+json": {
       "baseErrorDetails": null,
       "bindings": {},
       "collapsed": false,
       "command": "%python\n__backend_agg_display_orig = display\n__backend_agg_dfs = []\ndef __backend_agg_display_new(df):\n    __backend_agg_df_modules = [\"pandas.core.frame\", \"databricks.koalas.frame\", \"pyspark.sql.dataframe\", \"pyspark.pandas.frame\", \"pyspark.sql.connect.dataframe\"]\n    if (type(df).__module__ in __backend_agg_df_modules and type(df).__name__ == 'DataFrame') or isinstance(df, list):\n        __backend_agg_dfs.append(df)\n\ndisplay = __backend_agg_display_new\n\ndef __backend_agg_user_code_fn():\n    import base64\n    exec(base64.standard_b64decode(\"IyBUb3RhbCByZXZlbnVlIHBlciBzZXJ2aWNlIGNhdGVnb3J5CnJldmVudWVfcGVyX2NhdGVnb3J5ID0gZGYuZ3JvdXBCeSgiY2F0ZWdvcnkiKSBcCiAgICAuc3VtKCJhbW91bnRfc3BlbnQiKSBcCiAgICAud2l0aENvbHVtblJlbmFtZWQoInN1bShhbW91bnRfc3BlbnQpIiwgInRvdGFsX3JldmVudWUiKQoKIyBTaG93IHJlc3VsdHMKZGlzcGxheShyZXZlbnVlX3Blcl9jYXRlZ29yeSkK\").decode())\n\ntry:\n    # run user code\n    __backend_agg_user_code_fn()\n\n    #reset display function\n    display = __backend_agg_display_orig\n\n    if len(__backend_agg_dfs) > 0:\n        # create a temp view\n        if type(__backend_agg_dfs[0]).__module__ == \"databricks.koalas.frame\":\n            # koalas dataframe\n            __backend_agg_dfs[0].to_spark().createOrReplaceTempView(\"DatabricksViewd444b0a\")\n        elif type(__backend_agg_dfs[0]).__module__ == \"pandas.core.frame\" or isinstance(__backend_agg_dfs[0], list):\n            # pandas dataframe\n            spark.createDataFrame(__backend_agg_dfs[0]).createOrReplaceTempView(\"DatabricksViewd444b0a\")\n        else:\n            __backend_agg_dfs[0].createOrReplaceTempView(\"DatabricksViewd444b0a\")\n        #run backend agg\n        display(spark.sql(\"\"\"WITH q AS (select * from DatabricksViewd444b0a) SELECT `category`,SUM(`total_revenue`) `column_f9612f7887` FROM q GROUP BY `category`\"\"\"))\n    else:\n        displayHTML(\"dataframe no longer exists. If you're using dataframe.display(), use display(dataframe) instead.\")\n\n\nfinally:\n    spark.sql(\"drop view if exists DatabricksViewd444b0a\")\n    display = __backend_agg_display_orig\n    del __backend_agg_display_new\n    del __backend_agg_display_orig\n    del __backend_agg_dfs\n    del __backend_agg_user_code_fn\n\n",
       "commandTitle": "Visualization 1",
       "commandType": "auto",
       "commandVersion": 0,
       "commentThread": [],
       "commentsVisible": false,
       "contentSha256Hex": null,
       "customPlotOptions": {
        "redashChart": [
         {
          "key": "type",
          "value": "CHART"
         },
         {
          "key": "options",
          "value": {
           "alignYAxesAtZero": true,
           "coefficient": 1,
           "columnConfigurationMap": {
            "x": {
             "column": "category",
             "id": "column_f9612f7886"
            },
            "y": [
             {
              "column": "total_revenue",
              "id": "column_f9612f7887",
              "transform": "SUM"
             }
            ]
           },
           "dateTimeFormat": "DD/MM/YYYY HH:mm",
           "direction": {
            "type": "counterclockwise"
           },
           "error_y": {
            "type": "data",
            "visible": true
           },
           "globalSeriesType": "pie",
           "legend": {
            "traceorder": "normal"
           },
           "missingValuesAsZero": true,
           "numberFormat": "0,0.[00000]",
           "percentFormat": "0[.]00%",
           "series": {
            "error_y": {
             "type": "data",
             "visible": true
            },
            "stacking": null
           },
           "seriesOptions": {
            "column_f9612f7887": {
             "name": "total_revenue",
             "type": "pie",
             "yAxis": 0
            }
           },
           "showDataLabels": true,
           "sizemode": "diameter",
           "sortX": true,
           "sortY": true,
           "swappedAxes": false,
           "textFormat": "",
           "useAggregationsUi": true,
           "valuesOptions": {},
           "version": 2,
           "xAxis": {
            "labels": {
             "enabled": true
            },
            "type": "-"
           },
           "yAxis": [
            {
             "type": "-"
            },
            {
             "opposite": true,
             "type": "-"
            }
           ]
          }
         }
        ]
       },
       "datasetPreviewNameToCmdIdMap": {},
       "diffDeletes": [],
       "diffInserts": [],
       "displayType": "redashChart",
       "error": null,
       "errorDetails": null,
       "errorSummary": null,
       "errorTraceType": null,
       "finishTime": 0,
       "globalVars": {},
       "guid": "",
       "height": "auto",
       "hideCommandCode": false,
       "hideCommandResult": false,
       "iPythonMetadata": null,
       "inputWidgets": {},
       "isLockedInExamMode": false,
       "latestAssumeRoleInfo": null,
       "latestUser": "a user",
       "latestUserId": null,
       "listResultMetadata": null,
       "metadata": {},
       "nuid": "49ed94be-ac97-496c-b6aa-c0eea4696909",
       "origId": 0,
       "parentHierarchy": [],
       "pivotAggregation": null,
       "pivotColumns": null,
       "position": 102.0,
       "resultDbfsErrorMessage": null,
       "resultDbfsStatus": "INLINED_IN_TREE",
       "results": null,
       "showCommandTitle": false,
       "startTime": 0,
       "state": "input",
       "streamStates": {},
       "subcommandOptions": {
        "queryPlan": {
         "groups": [
          {
           "column": "category",
           "type": "column"
          }
         ],
         "selects": [
          {
           "column": "category",
           "type": "column"
          },
          {
           "alias": "column_f9612f7887",
           "args": [
            {
             "column": "total_revenue",
             "type": "column"
            }
           ],
           "function": "SUM",
           "type": "function"
          }
         ]
        }
       },
       "submitTime": 0,
       "subtype": "tableResultSubCmd.visualization",
       "tableResultIndex": 0,
       "tableResultSettingsMap": {},
       "useConsistentColors": false,
       "version": "CommandV1",
       "width": "auto",
       "workflows": [],
       "xColumns": null,
       "yColumns": null
      }
     },
     "output_type": "display_data"
    }
   ],
   "source": [
    "# Total revenue per service category\n",
    "revenue_per_category = df.groupBy(\"category\") \\\n",
    "    .sum(\"amount_spent\") \\\n",
    "    .withColumnRenamed(\"sum(amount_spent)\", \"total_revenue\")\n",
    "\n",
    "# Show results\n",
    "display(revenue_per_category)\n"
   ]
  },
  {
   "cell_type": "code",
   "execution_count": 0,
   "metadata": {
    "application/vnd.databricks.v1+cell": {
     "cellMetadata": {
      "byteLimit": 2048000,
      "rowLimit": 10000
     },
     "inputWidgets": {},
     "nuid": "293a3ad5-1fa2-41e6-bb0d-73e23a0c486e",
     "showTitle": false,
     "tableResultSettingsMap": {},
     "title": ""
    }
   },
   "outputs": [
    {
     "output_type": "display_data",
     "data": {
      "text/html": [
       "<style scoped>\n",
       "  .table-result-container {\n",
       "    max-height: 300px;\n",
       "    overflow: auto;\n",
       "  }\n",
       "  table, th, td {\n",
       "    border: 1px solid black;\n",
       "    border-collapse: collapse;\n",
       "  }\n",
       "  th, td {\n",
       "    padding: 5px;\n",
       "  }\n",
       "  th {\n",
       "    text-align: left;\n",
       "  }\n",
       "</style><div class='table-result-container'><table class='table-result'><thead style='background-color: white'><tr><th>service_name</th><th>avg_duration</th></tr></thead><tbody><tr><td>Pedicure</td><td>60.9375</td></tr><tr><td>Waxing</td><td>62.142857142857146</td></tr><tr><td>Hair Styling</td><td>81.81818181818181</td></tr><tr><td>Hair Coloring</td><td>75.0</td></tr><tr><td>Facial</td><td>79.0909090909091</td></tr><tr><td>Manicure</td><td>71.66666666666667</td></tr><tr><td>Haircut</td><td>67.0</td></tr><tr><td>Massage</td><td>65.0</td></tr><tr><td>Body Spa</td><td>74.0</td></tr><tr><td>Beard Grooming</td><td>48.0</td></tr></tbody></table></div>"
      ]
     },
     "metadata": {
      "application/vnd.databricks.v1+output": {
       "addedWidgets": {},
       "aggData": [],
       "aggError": "",
       "aggOverflow": false,
       "aggSchema": [],
       "aggSeriesLimitReached": false,
       "aggType": "",
       "arguments": {},
       "columnCustomDisplayInfos": {},
       "data": [
        [
         "Pedicure",
         60.9375
        ],
        [
         "Waxing",
         62.142857142857146
        ],
        [
         "Hair Styling",
         81.81818181818181
        ],
        [
         "Hair Coloring",
         75.0
        ],
        [
         "Facial",
         79.0909090909091
        ],
        [
         "Manicure",
         71.66666666666667
        ],
        [
         "Haircut",
         67.0
        ],
        [
         "Massage",
         65.0
        ],
        [
         "Body Spa",
         74.0
        ],
        [
         "Beard Grooming",
         48.0
        ]
       ],
       "datasetInfos": [],
       "dbfsResultPath": null,
       "isJsonSchema": true,
       "metadata": {},
       "overflow": false,
       "plotOptions": {
        "customPlotOptions": {},
        "displayType": "table",
        "pivotAggregation": null,
        "pivotColumns": null,
        "xColumns": null,
        "yColumns": null
       },
       "removedWidgets": [],
       "schema": [
        {
         "metadata": "{}",
         "name": "service_name",
         "type": "\"string\""
        },
        {
         "metadata": "{}",
         "name": "avg_duration",
         "type": "\"double\""
        }
       ],
       "type": "table"
      }
     },
     "output_type": "display_data"
    },
    {
     "output_type": "display_data",
     "data": {
      "text/plain": [
       "Databricks visualization. Run in Databricks to view."
      ]
     },
     "metadata": {
      "application/vnd.databricks.v1.subcommand+json": {
       "baseErrorDetails": null,
       "bindings": {},
       "collapsed": false,
       "command": "%python\n__backend_agg_display_orig = display\n__backend_agg_dfs = []\ndef __backend_agg_display_new(df):\n    __backend_agg_df_modules = [\"pandas.core.frame\", \"databricks.koalas.frame\", \"pyspark.sql.dataframe\", \"pyspark.pandas.frame\", \"pyspark.sql.connect.dataframe\"]\n    if (type(df).__module__ in __backend_agg_df_modules and type(df).__name__ == 'DataFrame') or isinstance(df, list):\n        __backend_agg_dfs.append(df)\n\ndisplay = __backend_agg_display_new\n\ndef __backend_agg_user_code_fn():\n    import base64\n    exec(base64.standard_b64decode(\"IyBBdmVyYWdlIGJvb2tpbmcgZHVyYXRpb24gYnkgc2VydmljZQphdmdfZHVyYXRpb24gPSBkZi5ncm91cEJ5KCJzZXJ2aWNlX25hbWUiKSBcCiAgICAuYXZnKCJkdXJhdGlvbiIpIFwKICAgIC53aXRoQ29sdW1uUmVuYW1lZCgiYXZnKGR1cmF0aW9uKSIsICJhdmdfZHVyYXRpb24iKQoKZGlzcGxheShhdmdfZHVyYXRpb24pCg==\").decode())\n\ntry:\n    # run user code\n    __backend_agg_user_code_fn()\n\n    #reset display function\n    display = __backend_agg_display_orig\n\n    if len(__backend_agg_dfs) > 0:\n        # create a temp view\n        if type(__backend_agg_dfs[0]).__module__ == \"databricks.koalas.frame\":\n            # koalas dataframe\n            __backend_agg_dfs[0].to_spark().createOrReplaceTempView(\"DatabricksView2aaf09a\")\n        elif type(__backend_agg_dfs[0]).__module__ == \"pandas.core.frame\" or isinstance(__backend_agg_dfs[0], list):\n            # pandas dataframe\n            spark.createDataFrame(__backend_agg_dfs[0]).createOrReplaceTempView(\"DatabricksView2aaf09a\")\n        else:\n            __backend_agg_dfs[0].createOrReplaceTempView(\"DatabricksView2aaf09a\")\n        #run backend agg\n        display(spark.sql(\"\"\"WITH q AS (select * from DatabricksView2aaf09a) SELECT `service_name`,SUM(`avg_duration`) `column_f9612f7884` FROM q GROUP BY `service_name`\"\"\"))\n    else:\n        displayHTML(\"dataframe no longer exists. If you're using dataframe.display(), use display(dataframe) instead.\")\n\n\nfinally:\n    spark.sql(\"drop view if exists DatabricksView2aaf09a\")\n    display = __backend_agg_display_orig\n    del __backend_agg_display_new\n    del __backend_agg_display_orig\n    del __backend_agg_dfs\n    del __backend_agg_user_code_fn\n\n",
       "commandTitle": "Visualization 1",
       "commandType": "auto",
       "commandVersion": 0,
       "commentThread": [],
       "commentsVisible": false,
       "contentSha256Hex": null,
       "customPlotOptions": {
        "redashChart": [
         {
          "key": "type",
          "value": "CHART"
         },
         {
          "key": "options",
          "value": {
           "alignYAxesAtZero": true,
           "coefficient": 1,
           "columnConfigurationMap": {
            "x": {
             "column": "service_name",
             "id": "column_f9612f7883"
            },
            "y": [
             {
              "column": "avg_duration",
              "id": "column_f9612f7884",
              "transform": "SUM"
             }
            ]
           },
           "dateTimeFormat": "DD/MM/YYYY HH:mm",
           "direction": {
            "type": "counterclockwise"
           },
           "error_y": {
            "type": "data",
            "visible": true
           },
           "globalSeriesType": "column",
           "legend": {
            "traceorder": "normal"
           },
           "missingValuesAsZero": true,
           "numberFormat": "0,0.[00000]",
           "percentFormat": "0[.]00%",
           "series": {
            "error_y": {
             "type": "data",
             "visible": true
            },
            "stacking": null
           },
           "seriesOptions": {
            "column_f9612f7884": {
             "name": "avg_duration",
             "yAxis": 0
            }
           },
           "showDataLabels": false,
           "sizemode": "diameter",
           "sortX": true,
           "sortY": true,
           "swappedAxes": true,
           "textFormat": "",
           "useAggregationsUi": true,
           "valuesOptions": {},
           "version": 2,
           "xAxis": {
            "labels": {
             "enabled": true
            },
            "type": "-"
           },
           "yAxis": [
            {
             "type": "-"
            },
            {
             "opposite": true,
             "type": "-"
            }
           ]
          }
         }
        ]
       },
       "datasetPreviewNameToCmdIdMap": {},
       "diffDeletes": [],
       "diffInserts": [],
       "displayType": "redashChart",
       "error": null,
       "errorDetails": null,
       "errorSummary": null,
       "errorTraceType": null,
       "finishTime": 0,
       "globalVars": {},
       "guid": "",
       "height": "auto",
       "hideCommandCode": false,
       "hideCommandResult": false,
       "iPythonMetadata": null,
       "inputWidgets": {},
       "isLockedInExamMode": false,
       "latestAssumeRoleInfo": null,
       "latestUser": "a user",
       "latestUserId": null,
       "listResultMetadata": null,
       "metadata": {},
       "nuid": "8caa0bd0-b800-43ab-a894-8ec7cb1b333a",
       "origId": 0,
       "parentHierarchy": [],
       "pivotAggregation": null,
       "pivotColumns": null,
       "position": 103.0,
       "resultDbfsErrorMessage": null,
       "resultDbfsStatus": "INLINED_IN_TREE",
       "results": null,
       "showCommandTitle": false,
       "startTime": 0,
       "state": "input",
       "streamStates": {},
       "subcommandOptions": {
        "queryPlan": {
         "groups": [
          {
           "column": "service_name",
           "type": "column"
          }
         ],
         "selects": [
          {
           "column": "service_name",
           "type": "column"
          },
          {
           "alias": "column_f9612f7884",
           "args": [
            {
             "column": "avg_duration",
             "type": "column"
            }
           ],
           "function": "SUM",
           "type": "function"
          }
         ]
        }
       },
       "submitTime": 0,
       "subtype": "tableResultSubCmd.visualization",
       "tableResultIndex": 0,
       "tableResultSettingsMap": {},
       "useConsistentColors": false,
       "version": "CommandV1",
       "width": "auto",
       "workflows": [],
       "xColumns": null,
       "yColumns": null
      }
     },
     "output_type": "display_data"
    }
   ],
   "source": [
    "# Average booking duration by service\n",
    "avg_duration = df.groupBy(\"service_name\") \\\n",
    "    .avg(\"duration\") \\\n",
    "    .withColumnRenamed(\"avg(duration)\", \"avg_duration\")\n",
    "\n",
    "display(avg_duration)\n"
   ]
  },
  {
   "cell_type": "code",
   "execution_count": 0,
   "metadata": {
    "application/vnd.databricks.v1+cell": {
     "cellMetadata": {
      "byteLimit": 2048000,
      "rowLimit": 10000
     },
     "inputWidgets": {},
     "nuid": "e76f3419-cb0e-420a-9be5-4c401c5f9a90",
     "showTitle": false,
     "tableResultSettingsMap": {},
     "title": ""
    }
   },
   "outputs": [
    {
     "output_type": "display_data",
     "data": {
      "text/html": [
       "<style scoped>\n",
       "  .table-result-container {\n",
       "    max-height: 300px;\n",
       "    overflow: auto;\n",
       "  }\n",
       "  table, th, td {\n",
       "    border: 1px solid black;\n",
       "    border-collapse: collapse;\n",
       "  }\n",
       "  th, td {\n",
       "    padding: 5px;\n",
       "  }\n",
       "  th {\n",
       "    text-align: left;\n",
       "  }\n",
       "</style><div class='table-result-container'><table class='table-result'><thead style='background-color: white'><tr><th>service_name</th><th>total_bookings</th></tr></thead><tbody><tr><td>Pedicure</td><td>16</td></tr><tr><td>Haircut</td><td>15</td></tr><tr><td>Body Spa</td><td>15</td></tr><tr><td>Hair Styling</td><td>11</td></tr><tr><td>Facial</td><td>11</td></tr></tbody></table></div>"
      ]
     },
     "metadata": {
      "application/vnd.databricks.v1+output": {
       "addedWidgets": {},
       "aggData": [],
       "aggError": "",
       "aggOverflow": false,
       "aggSchema": [],
       "aggSeriesLimitReached": false,
       "aggType": "",
       "arguments": {},
       "columnCustomDisplayInfos": {},
       "data": [
        [
         "Pedicure",
         16
        ],
        [
         "Haircut",
         15
        ],
        [
         "Body Spa",
         15
        ],
        [
         "Hair Styling",
         11
        ],
        [
         "Facial",
         11
        ]
       ],
       "datasetInfos": [],
       "dbfsResultPath": null,
       "isJsonSchema": true,
       "metadata": {},
       "overflow": false,
       "plotOptions": {
        "customPlotOptions": {},
        "displayType": "table",
        "pivotAggregation": null,
        "pivotColumns": null,
        "xColumns": null,
        "yColumns": null
       },
       "removedWidgets": [],
       "schema": [
        {
         "metadata": "{}",
         "name": "service_name",
         "type": "\"string\""
        },
        {
         "metadata": "{}",
         "name": "total_bookings",
         "type": "\"long\""
        }
       ],
       "type": "table"
      }
     },
     "output_type": "display_data"
    },
    {
     "output_type": "display_data",
     "data": {
      "text/plain": [
       "Databricks visualization. Run in Databricks to view."
      ]
     },
     "metadata": {
      "application/vnd.databricks.v1.subcommand+json": {
       "baseErrorDetails": null,
       "bindings": {},
       "collapsed": false,
       "command": "%python\n__backend_agg_display_orig = display\n__backend_agg_dfs = []\ndef __backend_agg_display_new(df):\n    __backend_agg_df_modules = [\"pandas.core.frame\", \"databricks.koalas.frame\", \"pyspark.sql.dataframe\", \"pyspark.pandas.frame\", \"pyspark.sql.connect.dataframe\"]\n    if (type(df).__module__ in __backend_agg_df_modules and type(df).__name__ == 'DataFrame') or isinstance(df, list):\n        __backend_agg_dfs.append(df)\n\ndisplay = __backend_agg_display_new\n\ndef __backend_agg_user_code_fn():\n    import base64\n    exec(base64.standard_b64decode(\"IyBSZWdpc3RlciBEYXRhRnJhbWUgYXMgdGVtcG9yYXJ5IFNRTCB2aWV3CmRmLmNyZWF0ZU9yUmVwbGFjZVRlbXBWaWV3KCJzYWxvbl9zcGEiKQoKIyBNb3N0IHBvcHVsYXIgc2VydmljZXMKcG9wdWxhcl9zZXJ2aWNlcyA9IHNwYXJrLnNxbCgiIiIKICAgIFNFTEVDVCBzZXJ2aWNlX25hbWUsIENPVU5UKCopIEFTIHRvdGFsX2Jvb2tpbmdzCiAgICBGUk9NIHNhbG9uX3NwYQogICAgR1JPVVAgQlkgc2VydmljZV9uYW1lCiAgICBPUkRFUiBCWSB0b3RhbF9ib29raW5ncyBERVNDCiAgICBMSU1JVCA1CiIiIikKCmRpc3BsYXkocG9wdWxhcl9zZXJ2aWNlcykKCg==\").decode())\n\ntry:\n    # run user code\n    __backend_agg_user_code_fn()\n\n    #reset display function\n    display = __backend_agg_display_orig\n\n    if len(__backend_agg_dfs) > 0:\n        # create a temp view\n        if type(__backend_agg_dfs[0]).__module__ == \"databricks.koalas.frame\":\n            # koalas dataframe\n            __backend_agg_dfs[0].to_spark().createOrReplaceTempView(\"DatabricksView13f9485\")\n        elif type(__backend_agg_dfs[0]).__module__ == \"pandas.core.frame\" or isinstance(__backend_agg_dfs[0], list):\n            # pandas dataframe\n            spark.createDataFrame(__backend_agg_dfs[0]).createOrReplaceTempView(\"DatabricksView13f9485\")\n        else:\n            __backend_agg_dfs[0].createOrReplaceTempView(\"DatabricksView13f9485\")\n        #run backend agg\n        display(spark.sql(\"\"\"WITH q AS (select * from DatabricksView13f9485) SELECT `service_name`,SUM(`total_bookings`) `column_f9612f7881` FROM q GROUP BY `service_name`\"\"\"))\n    else:\n        displayHTML(\"dataframe no longer exists. If you're using dataframe.display(), use display(dataframe) instead.\")\n\n\nfinally:\n    spark.sql(\"drop view if exists DatabricksView13f9485\")\n    display = __backend_agg_display_orig\n    del __backend_agg_display_new\n    del __backend_agg_display_orig\n    del __backend_agg_dfs\n    del __backend_agg_user_code_fn\n\n",
       "commandTitle": "Visualization 1",
       "commandType": "auto",
       "commandVersion": 0,
       "commentThread": [],
       "commentsVisible": false,
       "contentSha256Hex": null,
       "customPlotOptions": {
        "redashChart": [
         {
          "key": "type",
          "value": "CHART"
         },
         {
          "key": "options",
          "value": {
           "alignYAxesAtZero": true,
           "coefficient": 1,
           "columnConfigurationMap": {
            "x": {
             "column": "service_name",
             "id": "column_f9612f7880"
            },
            "y": [
             {
              "column": "total_bookings",
              "id": "column_f9612f7881",
              "transform": "SUM"
             }
            ]
           },
           "dateTimeFormat": "DD/MM/YYYY HH:mm",
           "direction": {
            "type": "counterclockwise"
           },
           "error_y": {
            "type": "data",
            "visible": true
           },
           "globalSeriesType": "column",
           "legend": {
            "traceorder": "normal"
           },
           "missingValuesAsZero": true,
           "numberFormat": "0,0.[00000]",
           "percentFormat": "0[.]00%",
           "series": {
            "error_y": {
             "type": "data",
             "visible": true
            },
            "stacking": null
           },
           "seriesOptions": {
            "column_f9612f7881": {
             "name": "total_bookings",
             "yAxis": 0
            }
           },
           "showDataLabels": false,
           "sizemode": "diameter",
           "sortX": true,
           "sortY": true,
           "swappedAxes": true,
           "textFormat": "",
           "useAggregationsUi": true,
           "valuesOptions": {},
           "version": 2,
           "xAxis": {
            "labels": {
             "enabled": true
            },
            "type": "-"
           },
           "yAxis": [
            {
             "type": "-"
            },
            {
             "opposite": true,
             "type": "-"
            }
           ]
          }
         }
        ]
       },
       "datasetPreviewNameToCmdIdMap": {},
       "diffDeletes": [],
       "diffInserts": [],
       "displayType": "redashChart",
       "error": null,
       "errorDetails": null,
       "errorSummary": null,
       "errorTraceType": null,
       "finishTime": 0,
       "globalVars": {},
       "guid": "",
       "height": "auto",
       "hideCommandCode": false,
       "hideCommandResult": false,
       "iPythonMetadata": null,
       "inputWidgets": {},
       "isLockedInExamMode": false,
       "latestAssumeRoleInfo": null,
       "latestUser": "a user",
       "latestUserId": null,
       "listResultMetadata": null,
       "metadata": {},
       "nuid": "ea175a75-d5cd-4c6c-9896-c6c0fea1fc18",
       "origId": 0,
       "parentHierarchy": [],
       "pivotAggregation": null,
       "pivotColumns": null,
       "position": 104.0,
       "resultDbfsErrorMessage": null,
       "resultDbfsStatus": "INLINED_IN_TREE",
       "results": null,
       "showCommandTitle": false,
       "startTime": 0,
       "state": "input",
       "streamStates": {},
       "subcommandOptions": {
        "queryPlan": {
         "groups": [
          {
           "column": "service_name",
           "type": "column"
          }
         ],
         "selects": [
          {
           "column": "service_name",
           "type": "column"
          },
          {
           "alias": "column_f9612f7881",
           "args": [
            {
             "column": "total_bookings",
             "type": "column"
            }
           ],
           "function": "SUM",
           "type": "function"
          }
         ]
        }
       },
       "submitTime": 0,
       "subtype": "tableResultSubCmd.visualization",
       "tableResultIndex": 0,
       "tableResultSettingsMap": {},
       "useConsistentColors": false,
       "version": "CommandV1",
       "width": "auto",
       "workflows": [],
       "xColumns": null,
       "yColumns": null
      }
     },
     "output_type": "display_data"
    }
   ],
   "source": [
    "# Register DataFrame as temporary SQL view\n",
    "df.createOrReplaceTempView(\"salon_spa\")\n",
    "\n",
    "# Most popular services\n",
    "popular_services = spark.sql(\"\"\"\n",
    "    SELECT service_name, COUNT(*) AS total_bookings\n",
    "    FROM salon_spa\n",
    "    GROUP BY service_name\n",
    "    ORDER BY total_bookings DESC\n",
    "    LIMIT 5\n",
    "\"\"\")\n",
    "\n",
    "display(popular_services)\n",
    "\n"
   ]
  },
  {
   "cell_type": "code",
   "execution_count": 0,
   "metadata": {
    "application/vnd.databricks.v1+cell": {
     "cellMetadata": {
      "byteLimit": 2048000,
      "rowLimit": 10000
     },
     "inputWidgets": {},
     "nuid": "ba54cf28-a5ab-4a29-a466-6b0cef507dc0",
     "showTitle": false,
     "tableResultSettingsMap": {},
     "title": ""
    }
   },
   "outputs": [
    {
     "output_type": "display_data",
     "data": {
      "text/html": [
       "<style scoped>\n",
       "  .table-result-container {\n",
       "    max-height: 300px;\n",
       "    overflow: auto;\n",
       "  }\n",
       "  table, th, td {\n",
       "    border: 1px solid black;\n",
       "    border-collapse: collapse;\n",
       "  }\n",
       "  th, td {\n",
       "    padding: 5px;\n",
       "  }\n",
       "  th {\n",
       "    text-align: left;\n",
       "  }\n",
       "</style><div class='table-result-container'><table class='table-result'><thead style='background-color: white'><tr><th>booking_hour</th><th>total_bookings</th></tr></thead><tbody><tr><td>19</td><td>8</td></tr><tr><td>12</td><td>8</td></tr><tr><td>23</td><td>7</td></tr><tr><td>4</td><td>7</td></tr><tr><td>18</td><td>7</td></tr><tr><td>7</td><td>6</td></tr><tr><td>20</td><td>5</td></tr><tr><td>2</td><td>5</td></tr><tr><td>10</td><td>5</td></tr><tr><td>9</td><td>5</td></tr><tr><td>14</td><td>5</td></tr><tr><td>21</td><td>4</td></tr><tr><td>17</td><td>4</td></tr><tr><td>6</td><td>4</td></tr><tr><td>0</td><td>4</td></tr><tr><td>13</td><td>3</td></tr><tr><td>15</td><td>2</td></tr><tr><td>1</td><td>2</td></tr><tr><td>8</td><td>2</td></tr><tr><td>16</td><td>2</td></tr><tr><td>5</td><td>2</td></tr><tr><td>22</td><td>1</td></tr><tr><td>3</td><td>1</td></tr><tr><td>11</td><td>1</td></tr></tbody></table></div>"
      ]
     },
     "metadata": {
      "application/vnd.databricks.v1+output": {
       "addedWidgets": {},
       "aggData": [],
       "aggError": "",
       "aggOverflow": false,
       "aggSchema": [],
       "aggSeriesLimitReached": false,
       "aggType": "",
       "arguments": {},
       "columnCustomDisplayInfos": {},
       "data": [
        [
         19,
         8
        ],
        [
         12,
         8
        ],
        [
         23,
         7
        ],
        [
         4,
         7
        ],
        [
         18,
         7
        ],
        [
         7,
         6
        ],
        [
         20,
         5
        ],
        [
         2,
         5
        ],
        [
         10,
         5
        ],
        [
         9,
         5
        ],
        [
         14,
         5
        ],
        [
         21,
         4
        ],
        [
         17,
         4
        ],
        [
         6,
         4
        ],
        [
         0,
         4
        ],
        [
         13,
         3
        ],
        [
         15,
         2
        ],
        [
         1,
         2
        ],
        [
         8,
         2
        ],
        [
         16,
         2
        ],
        [
         5,
         2
        ],
        [
         22,
         1
        ],
        [
         3,
         1
        ],
        [
         11,
         1
        ]
       ],
       "datasetInfos": [],
       "dbfsResultPath": null,
       "isJsonSchema": true,
       "metadata": {},
       "overflow": false,
       "plotOptions": {
        "customPlotOptions": {},
        "displayType": "table",
        "pivotAggregation": null,
        "pivotColumns": null,
        "xColumns": null,
        "yColumns": null
       },
       "removedWidgets": [],
       "schema": [
        {
         "metadata": "{}",
         "name": "booking_hour",
         "type": "\"integer\""
        },
        {
         "metadata": "{}",
         "name": "total_bookings",
         "type": "\"long\""
        }
       ],
       "type": "table"
      }
     },
     "output_type": "display_data"
    },
    {
     "output_type": "display_data",
     "data": {
      "text/plain": [
       "Databricks visualization. Run in Databricks to view."
      ]
     },
     "metadata": {
      "application/vnd.databricks.v1.subcommand+json": {
       "baseErrorDetails": null,
       "bindings": {},
       "collapsed": false,
       "command": "%python\n__backend_agg_display_orig = display\n__backend_agg_dfs = []\ndef __backend_agg_display_new(df):\n    __backend_agg_df_modules = [\"pandas.core.frame\", \"databricks.koalas.frame\", \"pyspark.sql.dataframe\", \"pyspark.pandas.frame\", \"pyspark.sql.connect.dataframe\"]\n    if (type(df).__module__ in __backend_agg_df_modules and type(df).__name__ == 'DataFrame') or isinstance(df, list):\n        __backend_agg_dfs.append(df)\n\ndisplay = __backend_agg_display_new\n\ndef __backend_agg_user_code_fn():\n    import base64\n    exec(base64.standard_b64decode(\"cGVha19ob3VycyA9IHNwYXJrLnNxbCgiIiIKICAgIFNFTEVDVCBIT1VSKGJvb2tpbmdfdGltZSkgQVMgYm9va2luZ19ob3VyLCBDT1VOVCgqKSBBUyB0b3RhbF9ib29raW5ncwogICAgRlJPTSBzYWxvbl9zcGEKICAgIEdST1VQIEJZIEhPVVIoYm9va2luZ190aW1lKQogICAgT1JERVIgQlkgdG90YWxfYm9va2luZ3MgREVTQwoiIiIpCgpkaXNwbGF5KHBlYWtfaG91cnMpCg==\").decode())\n\ntry:\n    # run user code\n    __backend_agg_user_code_fn()\n\n    #reset display function\n    display = __backend_agg_display_orig\n\n    if len(__backend_agg_dfs) > 0:\n        # create a temp view\n        if type(__backend_agg_dfs[0]).__module__ == \"databricks.koalas.frame\":\n            # koalas dataframe\n            __backend_agg_dfs[0].to_spark().createOrReplaceTempView(\"DatabricksView0046bcb\")\n        elif type(__backend_agg_dfs[0]).__module__ == \"pandas.core.frame\" or isinstance(__backend_agg_dfs[0], list):\n            # pandas dataframe\n            spark.createDataFrame(__backend_agg_dfs[0]).createOrReplaceTempView(\"DatabricksView0046bcb\")\n        else:\n            __backend_agg_dfs[0].createOrReplaceTempView(\"DatabricksView0046bcb\")\n        #run backend agg\n        display(spark.sql(\"\"\"WITH q AS (select * from DatabricksView0046bcb) SELECT `booking_hour`,`total_bookings` FROM q\"\"\"))\n    else:\n        displayHTML(\"dataframe no longer exists. If you're using dataframe.display(), use display(dataframe) instead.\")\n\n\nfinally:\n    spark.sql(\"drop view if exists DatabricksView0046bcb\")\n    display = __backend_agg_display_orig\n    del __backend_agg_display_new\n    del __backend_agg_display_orig\n    del __backend_agg_dfs\n    del __backend_agg_user_code_fn\n\n",
       "commandTitle": "Visualization 1",
       "commandType": "auto",
       "commandVersion": 0,
       "commentThread": [],
       "commentsVisible": false,
       "contentSha256Hex": null,
       "customPlotOptions": {
        "redashChart": [
         {
          "key": "type",
          "value": "CHART"
         },
         {
          "key": "options",
          "value": {
           "alignYAxesAtZero": true,
           "coefficient": 1,
           "columnConfigurationMap": {
            "x": {
             "column": "booking_hour",
             "id": "column_f9612f7878"
            },
            "y": [
             {
              "column": "total_bookings",
              "id": "column_f9612f7879"
             }
            ]
           },
           "dateTimeFormat": "DD/MM/YYYY HH:mm",
           "direction": {
            "type": "counterclockwise"
           },
           "error_y": {
            "type": "data",
            "visible": true
           },
           "globalSeriesType": "scatter",
           "legend": {
            "traceorder": "normal"
           },
           "missingValuesAsZero": true,
           "numberFormat": "0,0.[00000]",
           "percentFormat": "0[.]00%",
           "series": {
            "error_y": {
             "type": "data",
             "visible": true
            },
            "stacking": null
           },
           "seriesOptions": {
            "column_f9612f7879": {
             "name": "total_bookings",
             "yAxis": 0
            }
           },
           "showDataLabels": false,
           "sizemode": "diameter",
           "sortX": true,
           "sortY": true,
           "swappedAxes": false,
           "textFormat": "",
           "useAggregationsUi": true,
           "valuesOptions": {},
           "version": 2,
           "xAxis": {
            "labels": {
             "enabled": true
            },
            "type": "-"
           },
           "yAxis": [
            {
             "type": "-"
            },
            {
             "opposite": true,
             "type": "-"
            }
           ]
          }
         }
        ]
       },
       "datasetPreviewNameToCmdIdMap": {},
       "diffDeletes": [],
       "diffInserts": [],
       "displayType": "redashChart",
       "error": null,
       "errorDetails": null,
       "errorSummary": null,
       "errorTraceType": null,
       "finishTime": 0,
       "globalVars": {},
       "guid": "",
       "height": "auto",
       "hideCommandCode": false,
       "hideCommandResult": false,
       "iPythonMetadata": null,
       "inputWidgets": {},
       "isLockedInExamMode": false,
       "latestAssumeRoleInfo": null,
       "latestUser": "a user",
       "latestUserId": null,
       "listResultMetadata": null,
       "metadata": {},
       "nuid": "55b44471-c6f5-4e16-aa82-c63ef5090a5f",
       "origId": 0,
       "parentHierarchy": [],
       "pivotAggregation": null,
       "pivotColumns": null,
       "position": 105.0,
       "resultDbfsErrorMessage": null,
       "resultDbfsStatus": "INLINED_IN_TREE",
       "results": null,
       "showCommandTitle": false,
       "startTime": 0,
       "state": "input",
       "streamStates": {},
       "subcommandOptions": {
        "queryPlan": {
         "selects": [
          {
           "column": "booking_hour",
           "type": "column"
          },
          {
           "column": "total_bookings",
           "type": "column"
          }
         ]
        }
       },
       "submitTime": 0,
       "subtype": "tableResultSubCmd.visualization",
       "tableResultIndex": 0,
       "tableResultSettingsMap": {},
       "useConsistentColors": false,
       "version": "CommandV1",
       "width": "auto",
       "workflows": [],
       "xColumns": null,
       "yColumns": null
      }
     },
     "output_type": "display_data"
    }
   ],
   "source": [
    "peak_hours = spark.sql(\"\"\"\n",
    "    SELECT HOUR(booking_time) AS booking_hour, COUNT(*) AS total_bookings\n",
    "    FROM salon_spa\n",
    "    GROUP BY HOUR(booking_time)\n",
    "    ORDER BY total_bookings DESC\n",
    "\"\"\")\n",
    "\n",
    "display(peak_hours)\n"
   ]
  },
  {
   "cell_type": "code",
   "execution_count": 0,
   "metadata": {
    "application/vnd.databricks.v1+cell": {
     "cellMetadata": {
      "byteLimit": 2048000,
      "rowLimit": 10000
     },
     "inputWidgets": {},
     "nuid": "5ff96e6b-d4a4-4eae-9b90-886df9fee81f",
     "showTitle": false,
     "tableResultSettingsMap": {},
     "title": ""
    }
   },
   "outputs": [
    {
     "output_type": "display_data",
     "data": {
      "text/html": [
       "<style scoped>\n",
       "  .table-result-container {\n",
       "    max-height: 300px;\n",
       "    overflow: auto;\n",
       "  }\n",
       "  table, th, td {\n",
       "    border: 1px solid black;\n",
       "    border-collapse: collapse;\n",
       "  }\n",
       "  th, td {\n",
       "    padding: 5px;\n",
       "  }\n",
       "  th {\n",
       "    text-align: left;\n",
       "  }\n",
       "</style><div class='table-result-container'><table class='table-result'><thead style='background-color: white'><tr><th>booking_day</th><th>total_bookings</th></tr></thead><tbody><tr><td>2025-07-22</td><td>3</td></tr><tr><td>2025-06-25</td><td>3</td></tr><tr><td>2025-07-30</td><td>3</td></tr><tr><td>2025-09-16</td><td>3</td></tr><tr><td>2025-07-18</td><td>3</td></tr><tr><td>2025-07-10</td><td>3</td></tr><tr><td>2025-08-30</td><td>3</td></tr><tr><td>2025-08-14</td><td>3</td></tr><tr><td>2025-07-26</td><td>3</td></tr><tr><td>2025-07-29</td><td>3</td></tr><tr><td>2025-08-25</td><td>2</td></tr><tr><td>2025-07-25</td><td>2</td></tr><tr><td>2025-07-20</td><td>2</td></tr><tr><td>2025-08-21</td><td>2</td></tr><tr><td>2025-06-23</td><td>2</td></tr><tr><td>2025-08-27</td><td>2</td></tr><tr><td>2025-06-22</td><td>2</td></tr><tr><td>2025-06-29</td><td>2</td></tr><tr><td>2025-08-26</td><td>2</td></tr><tr><td>2025-09-02</td><td>2</td></tr><tr><td>2025-07-01</td><td>2</td></tr><tr><td>2025-06-30</td><td>2</td></tr><tr><td>2025-08-28</td><td>2</td></tr><tr><td>2025-08-13</td><td>2</td></tr><tr><td>2025-09-11</td><td>2</td></tr><tr><td>2025-08-04</td><td>2</td></tr><tr><td>2025-07-23</td><td>2</td></tr><tr><td>2025-07-13</td><td>2</td></tr><tr><td>2025-07-15</td><td>2</td></tr><tr><td>2025-08-08</td><td>2</td></tr><tr><td>2025-09-07</td><td>1</td></tr><tr><td>2025-08-01</td><td>1</td></tr><tr><td>2025-09-06</td><td>1</td></tr><tr><td>2025-09-09</td><td>1</td></tr><tr><td>2025-07-06</td><td>1</td></tr><tr><td>2025-07-28</td><td>1</td></tr><tr><td>2025-07-08</td><td>1</td></tr><tr><td>2025-07-17</td><td>1</td></tr><tr><td>2025-06-19</td><td>1</td></tr><tr><td>2025-09-10</td><td>1</td></tr><tr><td>2025-08-07</td><td>1</td></tr><tr><td>2025-07-31</td><td>1</td></tr><tr><td>2025-08-16</td><td>1</td></tr><tr><td>2025-08-17</td><td>1</td></tr><tr><td>2025-08-09</td><td>1</td></tr><tr><td>2025-07-09</td><td>1</td></tr><tr><td>2025-09-03</td><td>1</td></tr><tr><td>2025-09-01</td><td>1</td></tr><tr><td>2025-06-20</td><td>1</td></tr><tr><td>2025-08-18</td><td>1</td></tr><tr><td>2025-08-31</td><td>1</td></tr><tr><td>2025-06-27</td><td>1</td></tr><tr><td>2025-07-27</td><td>1</td></tr><tr><td>2025-09-04</td><td>1</td></tr><tr><td>2025-08-20</td><td>1</td></tr><tr><td>2025-08-12</td><td>1</td></tr><tr><td>2025-08-22</td><td>1</td></tr><tr><td>2025-08-11</td><td>1</td></tr><tr><td>2025-08-24</td><td>1</td></tr><tr><td>2025-06-24</td><td>1</td></tr></tbody></table></div>"
      ]
     },
     "metadata": {
      "application/vnd.databricks.v1+output": {
       "addedWidgets": {},
       "aggData": [],
       "aggError": "",
       "aggOverflow": false,
       "aggSchema": [],
       "aggSeriesLimitReached": false,
       "aggType": "",
       "arguments": {},
       "columnCustomDisplayInfos": {},
       "data": [
        [
         "2025-07-22",
         3
        ],
        [
         "2025-06-25",
         3
        ],
        [
         "2025-07-30",
         3
        ],
        [
         "2025-09-16",
         3
        ],
        [
         "2025-07-18",
         3
        ],
        [
         "2025-07-10",
         3
        ],
        [
         "2025-08-30",
         3
        ],
        [
         "2025-08-14",
         3
        ],
        [
         "2025-07-26",
         3
        ],
        [
         "2025-07-29",
         3
        ],
        [
         "2025-08-25",
         2
        ],
        [
         "2025-07-25",
         2
        ],
        [
         "2025-07-20",
         2
        ],
        [
         "2025-08-21",
         2
        ],
        [
         "2025-06-23",
         2
        ],
        [
         "2025-08-27",
         2
        ],
        [
         "2025-06-22",
         2
        ],
        [
         "2025-06-29",
         2
        ],
        [
         "2025-08-26",
         2
        ],
        [
         "2025-09-02",
         2
        ],
        [
         "2025-07-01",
         2
        ],
        [
         "2025-06-30",
         2
        ],
        [
         "2025-08-28",
         2
        ],
        [
         "2025-08-13",
         2
        ],
        [
         "2025-09-11",
         2
        ],
        [
         "2025-08-04",
         2
        ],
        [
         "2025-07-23",
         2
        ],
        [
         "2025-07-13",
         2
        ],
        [
         "2025-07-15",
         2
        ],
        [
         "2025-08-08",
         2
        ],
        [
         "2025-09-07",
         1
        ],
        [
         "2025-08-01",
         1
        ],
        [
         "2025-09-06",
         1
        ],
        [
         "2025-09-09",
         1
        ],
        [
         "2025-07-06",
         1
        ],
        [
         "2025-07-28",
         1
        ],
        [
         "2025-07-08",
         1
        ],
        [
         "2025-07-17",
         1
        ],
        [
         "2025-06-19",
         1
        ],
        [
         "2025-09-10",
         1
        ],
        [
         "2025-08-07",
         1
        ],
        [
         "2025-07-31",
         1
        ],
        [
         "2025-08-16",
         1
        ],
        [
         "2025-08-17",
         1
        ],
        [
         "2025-08-09",
         1
        ],
        [
         "2025-07-09",
         1
        ],
        [
         "2025-09-03",
         1
        ],
        [
         "2025-09-01",
         1
        ],
        [
         "2025-06-20",
         1
        ],
        [
         "2025-08-18",
         1
        ],
        [
         "2025-08-31",
         1
        ],
        [
         "2025-06-27",
         1
        ],
        [
         "2025-07-27",
         1
        ],
        [
         "2025-09-04",
         1
        ],
        [
         "2025-08-20",
         1
        ],
        [
         "2025-08-12",
         1
        ],
        [
         "2025-08-22",
         1
        ],
        [
         "2025-08-11",
         1
        ],
        [
         "2025-08-24",
         1
        ],
        [
         "2025-06-24",
         1
        ]
       ],
       "datasetInfos": [],
       "dbfsResultPath": null,
       "isJsonSchema": true,
       "metadata": {},
       "overflow": false,
       "plotOptions": {
        "customPlotOptions": {},
        "displayType": "table",
        "pivotAggregation": null,
        "pivotColumns": null,
        "xColumns": null,
        "yColumns": null
       },
       "removedWidgets": [],
       "schema": [
        {
         "metadata": "{}",
         "name": "booking_day",
         "type": "\"date\""
        },
        {
         "metadata": "{}",
         "name": "total_bookings",
         "type": "\"long\""
        }
       ],
       "type": "table"
      }
     },
     "output_type": "display_data"
    },
    {
     "output_type": "display_data",
     "data": {
      "text/plain": [
       "Databricks visualization. Run in Databricks to view."
      ]
     },
     "metadata": {
      "application/vnd.databricks.v1.subcommand+json": {
       "baseErrorDetails": null,
       "bindings": {},
       "collapsed": false,
       "command": "%python\n__backend_agg_display_orig = display\n__backend_agg_dfs = []\ndef __backend_agg_display_new(df):\n    __backend_agg_df_modules = [\"pandas.core.frame\", \"databricks.koalas.frame\", \"pyspark.sql.dataframe\", \"pyspark.pandas.frame\", \"pyspark.sql.connect.dataframe\"]\n    if (type(df).__module__ in __backend_agg_df_modules and type(df).__name__ == 'DataFrame') or isinstance(df, list):\n        __backend_agg_dfs.append(df)\n\ndisplay = __backend_agg_display_new\n\ndef __backend_agg_user_code_fn():\n    import base64\n    exec(base64.standard_b64decode(\"cGVha19kYXlzID0gc3Bhcmsuc3FsKCIiIgogICAgU0VMRUNUIERBVEUoYm9va2luZ19kYXRlKSBBUyBib29raW5nX2RheSwgQ09VTlQoKikgQVMgdG90YWxfYm9va2luZ3MKICAgIEZST00gc2Fsb25fc3BhCiAgICBHUk9VUCBCWSBEQVRFKGJvb2tpbmdfZGF0ZSkKICAgIE9SREVSIEJZIHRvdGFsX2Jvb2tpbmdzIERFU0MKIiIiKQoKZGlzcGxheShwZWFrX2RheXMpCgo=\").decode())\n\ntry:\n    # run user code\n    __backend_agg_user_code_fn()\n\n    #reset display function\n    display = __backend_agg_display_orig\n\n    if len(__backend_agg_dfs) > 0:\n        # create a temp view\n        if type(__backend_agg_dfs[0]).__module__ == \"databricks.koalas.frame\":\n            # koalas dataframe\n            __backend_agg_dfs[0].to_spark().createOrReplaceTempView(\"DatabricksView3758903\")\n        elif type(__backend_agg_dfs[0]).__module__ == \"pandas.core.frame\" or isinstance(__backend_agg_dfs[0], list):\n            # pandas dataframe\n            spark.createDataFrame(__backend_agg_dfs[0]).createOrReplaceTempView(\"DatabricksView3758903\")\n        else:\n            __backend_agg_dfs[0].createOrReplaceTempView(\"DatabricksView3758903\")\n        #run backend agg\n        display(spark.sql(\"\"\"WITH q AS (select * from DatabricksView3758903) SELECT `booking_day`,SUM(`total_bookings`) `column_f9612f7875` FROM q GROUP BY `booking_day`\"\"\"))\n    else:\n        displayHTML(\"dataframe no longer exists. If you're using dataframe.display(), use display(dataframe) instead.\")\n\n\nfinally:\n    spark.sql(\"drop view if exists DatabricksView3758903\")\n    display = __backend_agg_display_orig\n    del __backend_agg_display_new\n    del __backend_agg_display_orig\n    del __backend_agg_dfs\n    del __backend_agg_user_code_fn\n\n",
       "commandTitle": "Visualization 1",
       "commandType": "auto",
       "commandVersion": 0,
       "commentThread": [],
       "commentsVisible": false,
       "contentSha256Hex": null,
       "customPlotOptions": {
        "redashChart": [
         {
          "key": "type",
          "value": "CHART"
         },
         {
          "key": "options",
          "value": {
           "alignYAxesAtZero": true,
           "coefficient": 1,
           "columnConfigurationMap": {
            "x": {
             "column": "booking_day",
             "id": "column_f9612f7874"
            },
            "y": [
             {
              "column": "total_bookings",
              "id": "column_f9612f7875",
              "transform": "SUM"
             }
            ]
           },
           "dateTimeFormat": "DD/MM/YYYY HH:mm",
           "direction": {
            "type": "counterclockwise"
           },
           "error_y": {
            "type": "data",
            "visible": true
           },
           "globalSeriesType": "column",
           "legend": {
            "traceorder": "normal"
           },
           "missingValuesAsZero": true,
           "numberFormat": "0,0.[00000]",
           "percentFormat": "0[.]00%",
           "series": {
            "error_y": {
             "type": "data",
             "visible": true
            },
            "stacking": null
           },
           "seriesOptions": {
            "column_f9612f7875": {
             "name": "total_bookings",
             "type": "column",
             "yAxis": 0
            }
           },
           "showDataLabels": false,
           "sizemode": "diameter",
           "sortX": true,
           "sortY": true,
           "swappedAxes": false,
           "textFormat": "",
           "useAggregationsUi": true,
           "valuesOptions": {},
           "version": 2,
           "xAxis": {
            "labels": {
             "enabled": true
            },
            "type": "-"
           },
           "yAxis": [
            {
             "type": "-"
            },
            {
             "opposite": true,
             "type": "-"
            }
           ]
          }
         }
        ]
       },
       "datasetPreviewNameToCmdIdMap": {},
       "diffDeletes": [],
       "diffInserts": [],
       "displayType": "redashChart",
       "error": null,
       "errorDetails": null,
       "errorSummary": null,
       "errorTraceType": null,
       "finishTime": 0,
       "globalVars": {},
       "guid": "",
       "height": "auto",
       "hideCommandCode": false,
       "hideCommandResult": false,
       "iPythonMetadata": null,
       "inputWidgets": {},
       "isLockedInExamMode": false,
       "latestAssumeRoleInfo": null,
       "latestUser": "a user",
       "latestUserId": null,
       "listResultMetadata": null,
       "metadata": {},
       "nuid": "b61a2bfb-2c43-4852-abec-14ed653fe1f0",
       "origId": 0,
       "parentHierarchy": [],
       "pivotAggregation": null,
       "pivotColumns": null,
       "position": 106.0,
       "resultDbfsErrorMessage": null,
       "resultDbfsStatus": "INLINED_IN_TREE",
       "results": null,
       "showCommandTitle": false,
       "startTime": 0,
       "state": "input",
       "streamStates": {},
       "subcommandOptions": {
        "queryPlan": {
         "groups": [
          {
           "column": "booking_day",
           "type": "column"
          }
         ],
         "selects": [
          {
           "column": "booking_day",
           "type": "column"
          },
          {
           "alias": "column_f9612f7875",
           "args": [
            {
             "column": "total_bookings",
             "type": "column"
            }
           ],
           "function": "SUM",
           "type": "function"
          }
         ]
        }
       },
       "submitTime": 0,
       "subtype": "tableResultSubCmd.visualization",
       "tableResultIndex": 0,
       "tableResultSettingsMap": {},
       "useConsistentColors": false,
       "version": "CommandV1",
       "width": "auto",
       "workflows": [],
       "xColumns": null,
       "yColumns": null
      }
     },
     "output_type": "display_data"
    }
   ],
   "source": [
    "peak_days = spark.sql(\"\"\"\n",
    "    SELECT DATE(booking_date) AS booking_day, COUNT(*) AS total_bookings\n",
    "    FROM salon_spa\n",
    "    GROUP BY DATE(booking_date)\n",
    "    ORDER BY total_bookings DESC\n",
    "\"\"\")\n",
    "\n",
    "display(peak_days)\n",
    "\n"
   ]
  }
 ],
 "metadata": {
  "application/vnd.databricks.v1+notebook": {
   "computePreferences": null,
   "dashboards": [
    {
     "elements": [
      {
       "dashboardResultIndex": 0,
       "elementNUID": "293a3ad5-1fa2-41e6-bb0d-73e23a0c486e",
       "elementType": "command",
       "guid": "17b51d3d-baee-4b4f-8455-dfec431f14c5",
       "options": null,
       "position": {
        "height": 6,
        "width": 12,
        "x": 0,
        "y": 0,
        "z": null
       },
       "resultIndex": null
      },
      {
       "dashboardResultIndex": 0,
       "elementNUID": "5ff96e6b-d4a4-4eae-9b90-886df9fee81f",
       "elementType": "command",
       "guid": "30231a13-8634-487f-b8de-b87356b16b39",
       "options": null,
       "position": {
        "height": 6,
        "width": 12,
        "x": 0,
        "y": 6,
        "z": null
       },
       "resultIndex": null
      },
      {
       "dashboardResultIndex": null,
       "elementNUID": "55b44471-c6f5-4e16-aa82-c63ef5090a5f",
       "elementType": "command",
       "guid": "4c0b2526-3367-4157-b2b3-51c70a60eed8",
       "options": null,
       "position": {
        "height": 6,
        "width": 12,
        "x": 0,
        "y": 12,
        "z": null
       },
       "resultIndex": null
      },
      {
       "dashboardResultIndex": null,
       "elementNUID": "49ed94be-ac97-496c-b6aa-c0eea4696909",
       "elementType": "command",
       "guid": "540033ad-379a-4f5b-ba7b-24591e674080",
       "options": null,
       "position": {
        "height": 6,
        "width": 12,
        "x": 0,
        "y": 18,
        "z": null
       },
       "resultIndex": null
      },
      {
       "dashboardResultIndex": null,
       "elementNUID": "8caa0bd0-b800-43ab-a894-8ec7cb1b333a",
       "elementType": "command",
       "guid": "61928783-3fad-4403-997d-a31f871e8a9f",
       "options": null,
       "position": {
        "height": 6,
        "width": 12,
        "x": 0,
        "y": 24,
        "z": null
       },
       "resultIndex": null
      },
      {
       "dashboardResultIndex": 0,
       "elementNUID": "e76f3419-cb0e-420a-9be5-4c401c5f9a90",
       "elementType": "command",
       "guid": "6b7aaab9-0a47-4ef4-bee3-27a523077479",
       "options": null,
       "position": {
        "height": 6,
        "width": 12,
        "x": 0,
        "y": 30,
        "z": null
       },
       "resultIndex": null
      },
      {
       "dashboardResultIndex": null,
       "elementNUID": "ea175a75-d5cd-4c6c-9896-c6c0fea1fc18",
       "elementType": "command",
       "guid": "b0ffa050-3381-47b8-9799-06073c7a5c98",
       "options": null,
       "position": {
        "height": 6,
        "width": 12,
        "x": 0,
        "y": 36,
        "z": null
       },
       "resultIndex": null
      },
      {
       "dashboardResultIndex": null,
       "elementNUID": "b61a2bfb-2c43-4852-abec-14ed653fe1f0",
       "elementType": "command",
       "guid": "c998a346-c747-4b9e-8e42-e4fe89a71509",
       "options": null,
       "position": {
        "height": 6,
        "width": 12,
        "x": 0,
        "y": 42,
        "z": null
       },
       "resultIndex": null
      },
      {
       "dashboardResultIndex": 0,
       "elementNUID": "ba54cf28-a5ab-4a29-a466-6b0cef507dc0",
       "elementType": "command",
       "guid": "dd177bef-f01a-4b1d-aa28-929a3bc778d7",
       "options": null,
       "position": {
        "height": 6,
        "width": 12,
        "x": 0,
        "y": 48,
        "z": null
       },
       "resultIndex": null
      },
      {
       "dashboardResultIndex": 0,
       "elementNUID": "6d1d8781-ec47-49cd-b29f-206a0cca9e82",
       "elementType": "command",
       "guid": "e4fd8c53-6796-4846-9991-55cd7f7a97ef",
       "options": null,
       "position": {
        "height": 6,
        "width": 12,
        "x": 0,
        "y": 54,
        "z": null
       },
       "resultIndex": null
      }
     ],
     "globalVars": {},
     "guid": "",
     "layoutOption": {
      "grid": true,
      "stack": true
     },
     "nuid": "a10ccd51-0ae9-49d9-8db2-6ce57f0085c5",
     "origId": 7566558273379125,
     "title": "SPA AND SALON",
     "version": "DashboardViewV1",
     "width": 1024
    },
    {
     "elements": [],
     "globalVars": {},
     "guid": "",
     "layoutOption": {
      "grid": true,
      "stack": true
     },
     "nuid": "6fc0613a-d0a2-4aa9-9e57-db4cd6767997",
     "origId": 7566558273379131,
     "title": "Untitled",
     "version": "DashboardViewV1",
     "width": 1024
    }
   ],
   "environmentMetadata": {
    "base_environment": "",
    "environment_version": "3"
   },
   "inputWidgetPreferences": null,
   "language": "python",
   "notebookMetadata": {
    "pythonIndentUnit": 4
   },
   "notebookName": "SALON AND  SPA USE CASE",
   "widgets": {}
  },
  "language_info": {
   "name": "python"
  }
 },
 "nbformat": 4,
 "nbformat_minor": 0
}